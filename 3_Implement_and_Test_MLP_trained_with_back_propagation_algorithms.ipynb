{
  "nbformat": 4,
  "nbformat_minor": 0,
  "metadata": {
    "colab": {
      "provenance": []
    },
    "kernelspec": {
      "name": "python3",
      "display_name": "Python 3"
    },
    "language_info": {
      "name": "python"
    }
  },
  "cells": [
    {
      "cell_type": "code",
      "execution_count": null,
      "metadata": {
        "id": "GvvNElcKf3rs"
      },
      "outputs": [],
      "source": [
        "import numpy as np\n",
        "\n",
        "X = np.array([[2, 9], [1, 5], [3, 6]], dtype=float)\n",
        "y = np.array([[92], [86], [89]], dtype=float)\n",
        "X = X / np.amax(X, axis=0)  # Maximum of X array longitudinally\n",
        "y = y / 100\n",
        "\n",
        "# Sigmoid Function\n",
        "def sigmoid(x):\n",
        "    return 1 / (1 + np.exp(-x))\n",
        "\n",
        "# Derivative of Sigmoid Function\n",
        "def derivatives_sigmoid(x):\n",
        "    return x * (1 - x)\n",
        "\n",
        "# Variable initialization\n",
        "epoch = 7000  # Setting training iterations\n",
        "lr = 0.1  # Setting learning rate\n",
        "inputlayer_neurons = 2  # Number of features in dataset\n",
        "hiddenlayer_neurons = 3  # Number of hidden layer neurons\n",
        "output_neurons = 1  # Number of neurons at output layer\n",
        "\n",
        "# Weight and bias initialization\n",
        "wh = np.random.uniform(size=(inputlayer_neurons, hiddenlayer_neurons))\n",
        "bh = np.random.uniform(size=(1, hiddenlayer_neurons))\n",
        "wout = np.random.uniform(size=(hiddenlayer_neurons, output_neurons))\n",
        "bout = np.random.uniform(size=(1, output_neurons))\n",
        "\n",
        "# Training algorithm\n",
        "for i in range(epoch):\n",
        "    # Forward Propagation\n",
        "    hinp1 = np.dot(X, wh)\n",
        "    hinp = hinp1 + bh\n",
        "    hlayer_act = sigmoid(hinp)\n",
        "    outinp1 = np.dot(hlayer_act, wout)\n",
        "    outinp = outinp1 + bout\n",
        "    output = sigmoid(outinp)\n",
        "\n",
        "    # Backpropagation\n",
        "    EO = y - output\n",
        "    outgrad = derivatives_sigmoid(output)\n",
        "    d_output = EO * outgrad\n",
        "    EH = d_output.dot(wout.T)\n",
        "    hiddengrad = derivatives_sigmoid(hlayer_act)\n",
        "    d_hiddenlayer = EH * hiddengrad\n",
        "    wout += hlayer_act.T.dot(d_output) * lr\n",
        "    bout += np.sum(d_output, axis=0, keepdims=True) * lr\n",
        "    wh += X.T.dot(d_hiddenlayer) * lr\n",
        "    bh += np.sum(d_hiddenlayer, axis=0, keepdims=True) * lr\n",
        "\n",
        "print(\"Input: \\n\" + str(X))\n",
        "print(\"Actual Output: \\n\" + str(y))\n",
        "print(\"Predicted Output: \\n\", output)"
      ]
    }
  ]
}