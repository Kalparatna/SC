{
  "nbformat": 4,
  "nbformat_minor": 0,
  "metadata": {
    "colab": {
      "provenance": []
    },
    "kernelspec": {
      "name": "python3",
      "display_name": "Python 3"
    },
    "language_info": {
      "name": "python"
    }
  },
  "cells": [
    {
      "cell_type": "markdown",
      "source": [
        "### MATLAB Code for Various Membership Functions\n",
        "\n",
        "```matlab\n",
        "% 8. PI MF\n",
        "x = 0:0.1:10;\n",
        "y = pimf(x, [1, 4, 5, 7]);\n",
        "plot(x, y);\n",
        "xlabel('PI MF, p = (x, [1, 4, 5, 7])');\n",
        "ylabel('Fuzziness');\n",
        "\n",
        "% 5. Bell MF\n",
        "x = 0:0.1:10;\n",
        "y = gbellmf(x, [1, 4, 7]);\n",
        "plot(x, y);\n",
        "xlabel('Bell MF, p = (x, [1, 4, 7])');\n",
        "ylabel('Fuzziness');\n",
        "ylim([-0.05 1.05]);\n",
        "\n",
        "% 4. Gaussian 2 MF\n",
        "x = 0:0.1:10;\n",
        "y = gauss2mf(x, [1, 4, 5, 7]);\n",
        "plot(x, y);\n",
        "xlabel('Gaussian 2 MF, p = (x, [1, 4, 5, 7])');\n",
        "ylabel('Fuzziness');\n",
        "ylim([-0.05 1.05]);\n",
        "\n",
        "% 3. Gaussian MF\n",
        "x = 0:0.1:10;\n",
        "y = gaussmf(x, [1, 4]);\n",
        "plot(x, y);\n",
        "xlabel('Gaussian MF, p = (x, [1, 4])');\n",
        "ylabel('Fuzziness');\n",
        "ylim([-0.05 1.05]);\n",
        "\n",
        "% 1. Triangular MF\n",
        "x = 0:10;\n",
        "y = trimf(x, [3, 6, 10]);\n",
        "plot(x, y);\n",
        "xlabel('Triangular MF, p = (x, [3, 6, 10])');\n",
        "ylabel('Fuzziness');\n",
        "ylim([-0.05 1.05]);\n",
        "\n",
        "% 7. Sigmoidal 2 MF\n",
        "x = 0:0.1:10;\n",
        "y = smf(x, [1, 4]);\n",
        "plot(x, y);\n",
        "xlabel('Sigmoidal MF, p = (x, [1, 4])');\n",
        "ylabel('Fuzziness');\n",
        "ylim([-0.05 1.05]);\n",
        "\n",
        "% 6. Sigmoidal MF\n",
        "x = 0:0.1:10;\n",
        "y = sigmf(x, [1, 4]);\n",
        "plot(x, y);\n",
        "xlabel('Sigmoidal MF, p = (x, [1, 4])');\n",
        "ylabel('Fuzziness');\n",
        "ylim([-0.05 1.05]);\n",
        "\n",
        "% 2. Trapezoidal MF\n",
        "x = 0:10;\n",
        "y = trapmf(x, [1, 4, 6, 9]);\n",
        "plot(x, y);\n",
        "xlabel('Trapezoidal MF, p = (x, [1, 4, 6, 9])');\n",
        "ylabel('Fuzziness');\n",
        "ylim([-0.05 1.05]);\n"
      ],
      "metadata": {
        "id": "V1SaGQTNgr77"
      }
    }
  ]
}