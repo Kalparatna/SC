{
  "nbformat": 4,
  "nbformat_minor": 0,
  "metadata": {
    "colab": {
      "provenance": []
    },
    "kernelspec": {
      "name": "python3",
      "display_name": "Python 3"
    },
    "language_info": {
      "name": "python"
    }
  },
  "cells": [
    {
      "cell_type": "code",
      "execution_count": 1,
      "metadata": {
        "colab": {
          "base_uri": "https://localhost:8080/"
        },
        "id": "0TU71KgIfvqH",
        "outputId": "cc3e3a4d-92eb-43f1-d18b-23e6aa158929"
      },
      "outputs": [
        {
          "output_type": "stream",
          "name": "stdout",
          "text": [
            "x1   x2   w1   wt   t    O\n",
            "0    0    1    1    2    0\n",
            "0    1    1    1    2    0\n",
            "1    0    1    1    2    0\n",
            "1    1    1    1    2    1\n",
            "x1   x2   w1   wt   t    O\n",
            "0    0    1    1    1    0\n",
            "0    1    1    1    1    1\n",
            "1    0    1    1    1    1\n",
            "1    1    1    1    1    1\n",
            "x1   x2   w1   w2   t1   t2   O \n",
            "0    0    1    1    0    1    1 \n",
            "0    1    -1   1    0    1    0 \n",
            "1    0    -1   -1   0    1    0 \n",
            "1    1    1    -1   0    1    1 \n",
            "x1   x2   w1   wt   t     O\n",
            "0    0    1    1    -1    1\n",
            "0    1    1    1    -1    1\n",
            "1    0    1    1    -1    1\n",
            "1    1    1    1    -1    1\n"
          ]
        }
      ],
      "source": [
        "# AND Gate\n",
        "x1 = [0,0,1,1]\n",
        "x2 = [0,1,0,1]\n",
        "w1 = [1,1,1,1]\n",
        "w2 = [1,1,1,1]\n",
        "t = 2\n",
        "#output\n",
        "print(\"x1   x2   w1   wt   t    O\")\n",
        "for i in range(len(x1)):\n",
        "    if (x1[i]*w1[i] + x2[i]*w2[i]) >= t:\n",
        "        print(x1[i],'  ',x2[i],'  ',w1[i],'  ',w2[i],'  ',t,'  ',1)\n",
        "    else:\n",
        "        print(x1[i],'  ',x2[i],'  ',w1[i],'  ',w2[i],'  ',t,'  ' ,0)\n",
        "\n",
        "\n",
        "# OR Gate\n",
        "x1 = [0,0,1,1]\n",
        "x2 = [0,1,0,1]\n",
        "w1 = [1,1,1,1]\n",
        "w2 = [1,1,1,1]\n",
        "t = 1\n",
        "#output\n",
        "print(\"x1   x2   w1   wt   t    O\")\n",
        "for i in range(len(x1)):\n",
        "    if (x1[i]*w1[i] + x2[i]*w2[i]) >= t:\n",
        "        print(x1[i],'  ',x2[i],'  ',w1[i],'  ',w2[i],'  ',t,'  ',1)\n",
        "    else:\n",
        "        print(x1[i],'  ',x2[i],'  ',w1[i],'  ',w2[i],'  ',t,'  ' ,0)\n",
        "\n",
        "#XOR Gate\n",
        "x1 = [0, 0, 1, 1]\n",
        "x2 = [0, 1, 0, 1]\n",
        "w1 = [1,-1,-1, 1]\n",
        "w2 = [1,1,-1, -1]\n",
        "t1=0\n",
        "t2=1\n",
        "#output\n",
        "print(f\"{'x1':<4} {'x2':<4} {'w1':<4} {'w2':<4} {'t1':<4} {'t2':<4} {'O':<2}\")\n",
        "for i in range(len(x1)):\n",
        "    net1 = x1[i]*w1[i] + x2[i]*w2[i]\n",
        "    o1 =  1 if net1 >= t1 else 0\n",
        "    net2 = o1*w1[i] + (1-o1)*w2[i]\n",
        "    o2 =   1 if net2 >= t2 else 0\n",
        "    print(f\"{x1[i]:<4} {x2[i]:<4} {w1[i]:<4} {w2[i]:<4} {t1:<4} {t2:<4} {o2:<2}\")\n",
        "\n",
        "#NOR Gate\n",
        "x1 = [0,0,1,1]\n",
        "x2 = [0,1,0,1]\n",
        "w1 = [1,1,1,1]\n",
        "w2 = [1,1,1,1]\n",
        "t = -1\n",
        "#output\n",
        "print(\"x1   x2   w1   wt   t     O\")\n",
        "for i in range(len(x1)):\n",
        "    if (x1[i]*w1[i] + x2[i]*w2[i]) >= t:\n",
        "        print(x1[i],'  ',x2[i],'  ',w1[i],'  ',w2[i],'  ',t,'  ',1)\n",
        "    else:\n",
        "        print(x1[i],'  ',x2[i],'  ',w1[i],'  ',w2[i],'  ',t,'  ' ,0)\n",
        "\n"
      ]
    }
  ]
}